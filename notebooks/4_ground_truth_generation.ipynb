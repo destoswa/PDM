{
 "cells": [
  {
   "cell_type": "markdown",
   "metadata": {},
   "source": [
    "# Ground Truth generation"
   ]
  },
  {
   "cell_type": "markdown",
   "metadata": {},
   "source": [
    "# table of content\n",
    "1) [Load stats](#load-stats)\n",
    "2) [Show histograms and barplots](#show-histograms-and-barplots)\n",
    "3) [Pie on heights](#pie-on-heights)"
   ]
  },
  {
   "cell_type": "markdown",
   "metadata": {},
   "source": [
    "### Dependencies and general utils"
   ]
  },
  {
   "cell_type": "code",
   "execution_count": 1,
   "metadata": {},
   "outputs": [],
   "source": [
    "import os\n",
    "import numpy as np\n",
    "import pandas as pd\n",
    "import matplotlib.pyplot as plt\n",
    "import seaborn as sns\n",
    "import open3d as o3d\n",
    "import laspy\n",
    "import pdal\n",
    "import json\n",
    "from tqdm import tqdm"
   ]
  },
  {
   "cell_type": "markdown",
   "metadata": {},
   "source": [
    "### Generation"
   ]
  },
  {
   "cell_type": "code",
   "execution_count": 93,
   "metadata": {},
   "outputs": [],
   "source": [
    "# Loading sources\n",
    "src_folder_instances = r\"..\\data\\split_testing\\gt\\final_gt\\color_grp_full_tile_128_final\\instances\"\n",
    "src_original_prediction = r\"..\\data\\split_testing\\gt\\predictions\\color_grp_full_tile_128_out.laz\"\n",
    "src_folder_result = r\"..\\data\\split_testing\\gt\\final_gt\""
   ]
  },
  {
   "cell_type": "code",
   "execution_count": 94,
   "metadata": {},
   "outputs": [
    {
     "name": "stdout",
     "output_type": "stream",
     "text": [
      "<ScaledArrayView([2571634.37 2571634.37 2571634.37 ... 2571734.26 2571734.26 2571734.26])>\n"
     ]
    }
   ],
   "source": [
    "# Load original and reset/create gt columns\n",
    "full_tile = laspy.read(src_original_prediction)\n",
    "full_tile.remove_extra_dim('gt_semantic_segmentation')\n",
    "full_tile.add_extra_dim(laspy.ExtraBytesParams('gt_semantic_segmentation',type=\"uint16\"))\n",
    "full_tile.add_extra_dim(laspy.ExtraBytesParams('gt_instance_segmentation',type=\"uint16\"))\n",
    "print(full_tile.x)"
   ]
  },
  {
   "cell_type": "code",
   "execution_count": 95,
   "metadata": {},
   "outputs": [
    {
     "name": "stderr",
     "output_type": "stream",
     "text": [
      "100%|██████████| 33/33 [02:10<00:00,  3.94s/it]\n"
     ]
    }
   ],
   "source": [
    "# Loop on gt instances and set the correct values in the full tile\n",
    "list_instances_src = [x for x in os.listdir(src_folder_instances) if x.endswith('.laz')]\n",
    "rounding = 2\n",
    "semantic_layer = np.zeros(len(full_tile))\n",
    "instance_layer = np.zeros(len(full_tile))\n",
    "for id_instance, instance_src in tqdm(enumerate(list_instances_src), total=len(list_instances_src)):\n",
    "    instance = laspy.read(os.path.join(src_folder_instances, instance_src))\n",
    "    coords = list(zip(np.round(instance.x, rounding), np.round(instance.y, rounding), np.round(instance.z, rounding)))\n",
    "    mask = np.array([(x,y,z) in coords for x, y, z in zip(np.round(full_tile.x, rounding), np.round(full_tile.y, rounding), np.round(full_tile.z, rounding))])\n",
    "    semantic_layer[mask] = 1\n",
    "    instance_layer[mask] = id_instance + 1\n",
    "\n",
    "    assert np.sum(mask) == len(coords)\n",
    "\n",
    "setattr(full_tile, 'gt_semantic_segmentation', semantic_layer)\n",
    "setattr(full_tile, 'gt_instance_segmentation', instance_layer)\n",
    "\n",
    "# save file\n",
    "new_file = os.path.join(os.path.join(src_folder_result), os.path.basename(src_original_prediction).split('.laz')[0] + '_gt.laz')\n",
    "full_tile.write(new_file)"
   ]
  },
  {
   "cell_type": "code",
   "execution_count": 96,
   "metadata": {},
   "outputs": [
    {
     "name": "stdout",
     "output_type": "stream",
     "text": [
      "Semantic results:\n",
      "\tVal 0: number of points = 377417\n",
      "\tVal 1: number of points = 17472\n",
      "Instances results:\n",
      "\tVal 0: number of points = 377417\n",
      "\tVal 1: number of points = 480\n",
      "\tVal 2: number of points = 238\n",
      "\tVal 3: number of points = 505\n",
      "\tVal 4: number of points = 427\n",
      "\tVal 5: number of points = 337\n",
      "\tVal 6: number of points = 330\n",
      "\tVal 7: number of points = 475\n",
      "\tVal 8: number of points = 105\n",
      "\tVal 9: number of points = 709\n",
      "\tVal 10: number of points = 1066\n",
      "\tVal 11: number of points = 178\n",
      "\tVal 12: number of points = 127\n",
      "\tVal 13: number of points = 1358\n",
      "\tVal 14: number of points = 154\n",
      "\tVal 15: number of points = 116\n",
      "\tVal 16: number of points = 546\n",
      "\tVal 17: number of points = 713\n",
      "\tVal 18: number of points = 425\n",
      "\tVal 19: number of points = 973\n",
      "\tVal 20: number of points = 564\n",
      "\tVal 21: number of points = 480\n",
      "\tVal 22: number of points = 661\n",
      "\tVal 23: number of points = 113\n",
      "\tVal 24: number of points = 416\n",
      "\tVal 25: number of points = 405\n",
      "\tVal 26: number of points = 757\n",
      "\tVal 27: number of points = 776\n",
      "\tVal 28: number of points = 620\n",
      "\tVal 29: number of points = 802\n",
      "\tVal 30: number of points = 789\n",
      "\tVal 31: number of points = 992\n",
      "\tVal 32: number of points = 496\n",
      "\tVal 33: number of points = 339\n"
     ]
    }
   ],
   "source": [
    "# verify results and save file\n",
    "print(\"Semantic results:\")\n",
    "for cat in set(full_tile.gt_semantic_segmentation):\n",
    "    print(f\"\\tVal {cat}: number of points = {len(full_tile.gt_semantic_segmentation[full_tile.gt_semantic_segmentation == cat])}\")\n",
    "print(\"Instances results:\")\n",
    "for cat in set(full_tile.gt_instance_segmentation):\n",
    "    print(f\"\\tVal {cat}: number of points = {len(full_tile.gt_instance_segmentation[full_tile.gt_instance_segmentation == cat])}\")"
   ]
  },
  {
   "cell_type": "code",
   "execution_count": 11,
   "metadata": {},
   "outputs": [
    {
     "name": "stdout",
     "output_type": "stream",
     "text": [
      "X\n",
      "Y\n",
      "Z\n",
      "intensity\n",
      "return_number\n",
      "number_of_returns\n",
      "synthetic\n",
      "key_point\n",
      "withheld\n",
      "overlap\n",
      "scanner_channel\n",
      "scan_direction_flag\n",
      "edge_of_flight_line\n",
      "classification\n",
      "user_data\n",
      "scan_angle\n",
      "point_source_id\n",
      "gps_time\n",
      "red\n",
      "green\n",
      "blue\n",
      "PredSemantic\n",
      "gt_semantic_segmentation\n",
      "PredInstance\n",
      "gt_instance_segmentation\n"
     ]
    }
   ],
   "source": [
    "\n",
    "for col in list(full_tile.point_format.dimension_names):\n",
    "    print(col)"
   ]
  }
 ],
 "metadata": {
  "kernelspec": {
   "display_name": "PDM",
   "language": "python",
   "name": "python3"
  },
  "language_info": {
   "codemirror_mode": {
    "name": "ipython",
    "version": 3
   },
   "file_extension": ".py",
   "mimetype": "text/x-python",
   "name": "python",
   "nbconvert_exporter": "python",
   "pygments_lexer": "ipython3",
   "version": "3.9.21"
  }
 },
 "nbformat": 4,
 "nbformat_minor": 2
}
