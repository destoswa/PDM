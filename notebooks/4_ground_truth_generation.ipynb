{
 "cells": [
  {
   "cell_type": "markdown",
   "metadata": {},
   "source": [
    "# Ground Truth generation"
   ]
  },
  {
   "cell_type": "markdown",
   "metadata": {},
   "source": [
    "# table of content\n",
    "1) [Load stats](#load-stats)\n",
    "2) [Show histograms and barplots](#show-histograms-and-barplots)\n",
    "3) [Pie on heights](#pie-on-heights)"
   ]
  },
  {
   "cell_type": "markdown",
   "metadata": {},
   "source": [
    "### Dependencies and general utils"
   ]
  },
  {
   "cell_type": "code",
   "execution_count": 2,
   "metadata": {},
   "outputs": [],
   "source": [
    "import os\n",
    "import numpy as np\n",
    "import pandas as pd\n",
    "import matplotlib.pyplot as plt\n",
    "import seaborn as sns\n",
    "import open3d as o3d\n",
    "import laspy\n",
    "import pdal\n",
    "import json\n",
    "from tqdm import tqdm"
   ]
  },
  {
   "cell_type": "markdown",
   "metadata": {},
   "source": [
    "### Generation"
   ]
  },
  {
   "cell_type": "code",
   "execution_count": 40,
   "metadata": {},
   "outputs": [],
   "source": [
    "# Loading sources\n",
    "src_folder_instances = r\"..\\data\\split_testing\\gt\\final_gt\\color_grp_full_tile_633_final\\instances\"\n",
    "src_original_prediction = r\"..\\data\\split_testing\\gt\\predictions\\color_grp_full_tile_633_out.laz\"\n",
    "src_folder_result = r\"..\\data\\split_testing\\gt\\final_gt\""
   ]
  },
  {
   "cell_type": "code",
   "execution_count": 41,
   "metadata": {},
   "outputs": [
    {
     "name": "stdout",
     "output_type": "stream",
     "text": [
      "<ScaledArrayView([2572034.38 2572034.38 2572034.38 ... 2572134.26 2572134.26 2572134.26])>\n"
     ]
    }
   ],
   "source": [
    "# Load original and reset/create gt columns\n",
    "full_tile = laspy.read(src_original_prediction)\n",
    "full_tile.remove_extra_dim('gt_semantic_segmentation')\n",
    "full_tile.add_extra_dim(laspy.ExtraBytesParams('gt_semantic_segmentation',type=\"uint16\"))\n",
    "full_tile.add_extra_dim(laspy.ExtraBytesParams('gt_instance_segmentation',type=\"uint16\"))\n",
    "print(full_tile.x)"
   ]
  },
  {
   "cell_type": "code",
   "execution_count": 42,
   "metadata": {},
   "outputs": [
    {
     "name": "stderr",
     "output_type": "stream",
     "text": [
      "100%|██████████| 162/162 [09:33<00:00,  3.54s/it]\n"
     ]
    }
   ],
   "source": [
    "# Loop on gt instances and set the correct values in the full tile\n",
    "list_instances_src = [x for x in os.listdir(src_folder_instances) if x.endswith('.laz')]\n",
    "rounding = 2\n",
    "semantic_layer = np.zeros(len(full_tile))\n",
    "instance_layer = np.zeros(len(full_tile))\n",
    "for id_instance, instance_src in tqdm(enumerate(list_instances_src), total=len(list_instances_src)):\n",
    "    instance = laspy.read(os.path.join(src_folder_instances, instance_src))\n",
    "    coords = list(zip(np.round(instance.x, rounding), np.round(instance.y, rounding), np.round(instance.z, rounding)))\n",
    "    mask = np.array([(x,y,z) in coords for x, y, z in zip(np.round(full_tile.x, rounding), np.round(full_tile.y, rounding), np.round(full_tile.z, rounding))])\n",
    "    semantic_layer[mask] = 1\n",
    "    instance_layer[mask] = id_instance + 1\n",
    "    # print(np.sum(mask))\n",
    "    # print(len(coords))\n",
    "    # assert np.sum(mask) == len(coords)\n",
    "\n",
    "setattr(full_tile, 'gt_semantic_segmentation', semantic_layer)\n",
    "setattr(full_tile, 'gt_instance_segmentation', instance_layer)\n",
    "\n",
    "# save file\n",
    "new_file = os.path.join(os.path.join(src_folder_result), os.path.basename(src_original_prediction).split('.laz')[0] + '_gt.laz')\n",
    "full_tile.write(new_file)"
   ]
  },
  {
   "cell_type": "code",
   "execution_count": 36,
   "metadata": {},
   "outputs": [
    {
     "name": "stdout",
     "output_type": "stream",
     "text": [
      "Semantic results:\n",
      "\tVal 0: number of points = 294154\n",
      "\tVal 1: number of points = 149430\n",
      "Instances results:\n",
      "\tVal 0: number of points = 294154\n",
      "\tVal 1: number of points = 626\n",
      "\tVal 2: number of points = 228\n",
      "\tVal 3: number of points = 1084\n",
      "\tVal 4: number of points = 914\n",
      "\tVal 5: number of points = 1198\n",
      "\tVal 6: number of points = 1362\n",
      "\tVal 7: number of points = 1239\n",
      "\tVal 8: number of points = 96\n",
      "\tVal 9: number of points = 2312\n",
      "\tVal 10: number of points = 3209\n",
      "\tVal 11: number of points = 156\n",
      "\tVal 12: number of points = 491\n",
      "\tVal 13: number of points = 137\n",
      "\tVal 14: number of points = 3016\n",
      "\tVal 15: number of points = 547\n",
      "\tVal 16: number of points = 662\n",
      "\tVal 17: number of points = 464\n",
      "\tVal 18: number of points = 1494\n",
      "\tVal 19: number of points = 1319\n",
      "\tVal 20: number of points = 419\n",
      "\tVal 21: number of points = 1540\n",
      "\tVal 22: number of points = 186\n",
      "\tVal 23: number of points = 2231\n",
      "\tVal 24: number of points = 354\n",
      "\tVal 25: number of points = 744\n",
      "\tVal 26: number of points = 1907\n",
      "\tVal 27: number of points = 1666\n",
      "\tVal 28: number of points = 1140\n",
      "\tVal 29: number of points = 401\n",
      "\tVal 30: number of points = 204\n",
      "\tVal 31: number of points = 891\n",
      "\tVal 32: number of points = 290\n",
      "\tVal 33: number of points = 1159\n",
      "\tVal 34: number of points = 484\n",
      "\tVal 35: number of points = 659\n",
      "\tVal 36: number of points = 1547\n",
      "\tVal 37: number of points = 740\n",
      "\tVal 38: number of points = 1282\n",
      "\tVal 39: number of points = 4737\n",
      "\tVal 40: number of points = 66\n",
      "\tVal 41: number of points = 69\n",
      "\tVal 42: number of points = 484\n",
      "\tVal 43: number of points = 1058\n",
      "\tVal 44: number of points = 172\n",
      "\tVal 45: number of points = 763\n",
      "\tVal 46: number of points = 1340\n",
      "\tVal 47: number of points = 1046\n",
      "\tVal 48: number of points = 226\n",
      "\tVal 49: number of points = 1764\n",
      "\tVal 50: number of points = 1665\n",
      "\tVal 51: number of points = 202\n",
      "\tVal 52: number of points = 1662\n",
      "\tVal 53: number of points = 307\n",
      "\tVal 54: number of points = 714\n",
      "\tVal 55: number of points = 515\n",
      "\tVal 56: number of points = 268\n",
      "\tVal 57: number of points = 647\n",
      "\tVal 58: number of points = 286\n",
      "\tVal 59: number of points = 335\n",
      "\tVal 60: number of points = 424\n",
      "\tVal 61: number of points = 299\n",
      "\tVal 62: number of points = 172\n",
      "\tVal 63: number of points = 1813\n",
      "\tVal 64: number of points = 172\n",
      "\tVal 65: number of points = 1555\n",
      "\tVal 66: number of points = 2248\n",
      "\tVal 67: number of points = 887\n",
      "\tVal 68: number of points = 264\n",
      "\tVal 69: number of points = 758\n",
      "\tVal 70: number of points = 566\n",
      "\tVal 71: number of points = 945\n",
      "\tVal 72: number of points = 2547\n",
      "\tVal 73: number of points = 264\n",
      "\tVal 74: number of points = 2351\n",
      "\tVal 75: number of points = 953\n",
      "\tVal 76: number of points = 190\n",
      "\tVal 77: number of points = 3961\n",
      "\tVal 78: number of points = 1294\n",
      "\tVal 79: number of points = 228\n",
      "\tVal 80: number of points = 591\n",
      "\tVal 81: number of points = 264\n",
      "\tVal 82: number of points = 2925\n",
      "\tVal 83: number of points = 358\n",
      "\tVal 84: number of points = 1744\n",
      "\tVal 85: number of points = 1027\n",
      "\tVal 86: number of points = 366\n",
      "\tVal 87: number of points = 1007\n",
      "\tVal 88: number of points = 495\n",
      "\tVal 89: number of points = 1017\n",
      "\tVal 90: number of points = 1664\n",
      "\tVal 91: number of points = 389\n",
      "\tVal 92: number of points = 682\n",
      "\tVal 93: number of points = 369\n",
      "\tVal 94: number of points = 893\n",
      "\tVal 95: number of points = 1532\n",
      "\tVal 96: number of points = 431\n",
      "\tVal 97: number of points = 236\n",
      "\tVal 98: number of points = 2157\n",
      "\tVal 99: number of points = 1098\n",
      "\tVal 100: number of points = 1140\n",
      "\tVal 101: number of points = 3462\n",
      "\tVal 102: number of points = 897\n",
      "\tVal 103: number of points = 4093\n",
      "\tVal 104: number of points = 2189\n",
      "\tVal 105: number of points = 189\n",
      "\tVal 106: number of points = 801\n",
      "\tVal 107: number of points = 1774\n",
      "\tVal 108: number of points = 1331\n",
      "\tVal 109: number of points = 1913\n",
      "\tVal 110: number of points = 719\n",
      "\tVal 111: number of points = 989\n",
      "\tVal 112: number of points = 3221\n",
      "\tVal 113: number of points = 203\n",
      "\tVal 114: number of points = 185\n",
      "\tVal 115: number of points = 324\n",
      "\tVal 116: number of points = 1348\n",
      "\tVal 117: number of points = 2347\n",
      "\tVal 118: number of points = 809\n",
      "\tVal 119: number of points = 1993\n",
      "\tVal 120: number of points = 175\n",
      "\tVal 121: number of points = 1303\n",
      "\tVal 122: number of points = 984\n",
      "\tVal 123: number of points = 3802\n",
      "\tVal 124: number of points = 611\n",
      "\tVal 125: number of points = 269\n",
      "\tVal 126: number of points = 688\n",
      "\tVal 127: number of points = 628\n",
      "\tVal 128: number of points = 710\n",
      "\tVal 129: number of points = 416\n",
      "\tVal 130: number of points = 1373\n",
      "\tVal 131: number of points = 298\n",
      "\tVal 132: number of points = 1633\n",
      "\tVal 133: number of points = 3077\n",
      "\tVal 134: number of points = 538\n",
      "\tVal 135: number of points = 198\n",
      "\tVal 136: number of points = 305\n",
      "\tVal 137: number of points = 2109\n",
      "\tVal 138: number of points = 187\n",
      "\tVal 139: number of points = 2339\n"
     ]
    }
   ],
   "source": [
    "# verify results and save file\n",
    "print(\"Semantic results:\")\n",
    "for cat in set(full_tile.gt_semantic_segmentation):\n",
    "    print(f\"\\tVal {cat}: number of points = {len(full_tile.gt_semantic_segmentation[full_tile.gt_semantic_segmentation == cat])}\")\n",
    "print(\"Instances results:\")\n",
    "for cat in set(full_tile.gt_instance_segmentation):\n",
    "    print(f\"\\tVal {cat}: number of points = {len(full_tile.gt_instance_segmentation[full_tile.gt_instance_segmentation == cat])}\")"
   ]
  },
  {
   "cell_type": "code",
   "execution_count": 11,
   "metadata": {},
   "outputs": [
    {
     "name": "stdout",
     "output_type": "stream",
     "text": [
      "X\n",
      "Y\n",
      "Z\n",
      "intensity\n",
      "return_number\n",
      "number_of_returns\n",
      "synthetic\n",
      "key_point\n",
      "withheld\n",
      "overlap\n",
      "scanner_channel\n",
      "scan_direction_flag\n",
      "edge_of_flight_line\n",
      "classification\n",
      "user_data\n",
      "scan_angle\n",
      "point_source_id\n",
      "gps_time\n",
      "red\n",
      "green\n",
      "blue\n",
      "PredSemantic\n",
      "gt_semantic_segmentation\n",
      "PredInstance\n",
      "gt_instance_segmentation\n"
     ]
    }
   ],
   "source": [
    "\n",
    "for col in list(full_tile.point_format.dimension_names):\n",
    "    print(col)"
   ]
  },
  {
   "cell_type": "markdown",
   "metadata": {},
   "source": [
    "### Introducing clean samples into original"
   ]
  },
  {
   "cell_type": "code",
   "execution_count": null,
   "metadata": {},
   "outputs": [],
   "source": [
    "src_origina"
   ]
  }
 ],
 "metadata": {
  "kernelspec": {
   "display_name": "PDM",
   "language": "python",
   "name": "python3"
  },
  "language_info": {
   "codemirror_mode": {
    "name": "ipython",
    "version": 3
   },
   "file_extension": ".py",
   "mimetype": "text/x-python",
   "name": "python",
   "nbconvert_exporter": "python",
   "pygments_lexer": "ipython3",
   "version": "3.9.21"
  }
 },
 "nbformat": 4,
 "nbformat_minor": 2
}
