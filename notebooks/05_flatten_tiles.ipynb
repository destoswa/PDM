{
 "cells": [
  {
   "cell_type": "markdown",
   "metadata": {},
   "source": [
    "# Flatten tiles"
   ]
  },
  {
   "cell_type": "markdown",
   "metadata": {},
   "source": [
    "# table of content\n",
    "1) [Flattening a tile](#flattening-a-tile)\n",
    "2) [Visualize the removed points](#visualize-the-removed-points)"
   ]
  },
  {
   "cell_type": "markdown",
   "metadata": {},
   "source": [
    "### Dependencies and general utils"
   ]
  },
  {
   "cell_type": "code",
   "execution_count": 18,
   "metadata": {},
   "outputs": [],
   "source": [
    "# pip install scipy"
   ]
  },
  {
   "cell_type": "code",
   "execution_count": 19,
   "metadata": {},
   "outputs": [],
   "source": [
    "import os\n",
    "import numpy as np\n",
    "import pandas as pd\n",
    "import matplotlib.pyplot as plt\n",
    "import seaborn as sns\n",
    "import open3d as o3d\n",
    "import laspy\n",
    "# import pdal\n",
    "import json\n",
    "import scipy\n",
    "import copy\n",
    "import pickle\n",
    "from tqdm import tqdm\n",
    "from scipy.spatial import cKDTree"
   ]
  },
  {
   "cell_type": "markdown",
   "metadata": {},
   "source": [
    "### Flattening a tile"
   ]
  },
  {
   "cell_type": "markdown",
   "metadata": {},
   "source": [
    "#### example"
   ]
  },
  {
   "cell_type": "code",
   "execution_count": 20,
   "metadata": {},
   "outputs": [],
   "source": [
    "def remove_duplicates(laz_file):\n",
    "    # Find pairs of points\n",
    "    coords = np.round(np.vstack((laz_file.x, laz_file.y, laz_file.z)),2).T\n",
    "    tree_B = cKDTree(coords)\n",
    "    pairs = tree_B.query_pairs(1e-2)\n",
    "\n",
    "    # Create the mask with dupplicates\n",
    "    mask = [True for i in range(len(coords))]\n",
    "    for pair in pairs:\n",
    "        mask[pair[1]] = False\n",
    "\n",
    "    # Remove the dupplicates from the file\n",
    "    laz_file.points = laz_file.points[mask]"
   ]
  },
  {
   "cell_type": "code",
   "execution_count": 21,
   "metadata": {},
   "outputs": [
    {
     "name": "stdout",
     "output_type": "stream",
     "text": [
      "388709\n",
      "388709\n",
      "['X', 'Y', 'Z', 'intensity', 'return_number', 'number_of_returns', 'synthetic', 'key_point', 'withheld', 'overlap', 'scanner_channel', 'scan_direction_flag', 'edge_of_flight_line', 'classification', 'user_data', 'scan_angle', 'point_source_id', 'gps_time', 'red', 'green', 'blue']\n",
      "(388709, 3)\n"
     ]
    }
   ],
   "source": [
    "tile_src = r\"..\\data\\flattening_testing\\color_grp_full_tile_128.laz\"\n",
    "tile_src = r\"..\\data\\flattening_corrections\\test\\color_grp_full_tile_128.laz\"\n",
    "laz = laspy.read(tile_src)\n",
    "print(len(laz))\n",
    "remove_duplicates(laz)\n",
    "print(len(laz))\n",
    "laz.write(tile_src)\n",
    "points = np.vstack((laz.x, laz.y, laz.z)).T\n",
    "points_flatten = copy.deepcopy(points)\n",
    "points_interpolated = copy.deepcopy(points)\n",
    "print(list(laz.point_format.dimension_names))\n",
    "print(points.shape)"
   ]
  },
  {
   "cell_type": "code",
   "execution_count": 22,
   "metadata": {},
   "outputs": [
    {
     "name": "stderr",
     "output_type": "stream",
     "text": [
      "100%|██████████| 388709/388709 [00:04<00:00, 88591.92it/s]\n"
     ]
    }
   ],
   "source": [
    "grid_size=10\n",
    "# Divide into tiles and find local minimums\n",
    "#   _Create grid and find min Z in each cell\n",
    "x_min, y_min = np.min(points[:, :2], axis=0)\n",
    "x_max, y_max = np.max(points[:, :2], axis=0)\n",
    "\n",
    "x_bins = np.append(np.arange(x_min, x_max, grid_size), x_max)\n",
    "y_bins = np.append(np.arange(y_min, y_max, grid_size), y_max)\n",
    "\n",
    "grid = {i:{j:[] for j in range(y_bins.size - 1)} for i in range(x_bins.size -1)}\n",
    "for _, (px, py, pz) in tqdm(enumerate(points), total=len(points)):\n",
    "    xbin = np.clip(0, (px - x_min) // grid_size, x_bins.size - 1)\n",
    "    ybin = np.clip(0, (py - y_min) // grid_size, y_bins.size - 1)\n",
    "    grid[xbin][ybin].append((px, py, pz))\n"
   ]
  },
  {
   "cell_type": "code",
   "execution_count": 23,
   "metadata": {},
   "outputs": [
    {
     "name": "stdout",
     "output_type": "stream",
     "text": [
      "[[1. 1. 1. 1. 1. 1. 1. 1. 1. 1.]\n",
      " [1. 1. 1. 1. 1. 1. 1. 1. 1. 1.]\n",
      " [1. 1. 1. 1. 1. 1. 1. 1. 1. 1.]\n",
      " [1. 1. 1. 1. 1. 1. 1. 1. 1. 1.]\n",
      " [1. 1. 1. 1. 1. 1. 1. 1. 1. 1.]\n",
      " [1. 1. 1. 1. 1. 1. 1. 1. 1. 1.]\n",
      " [1. 1. 1. 1. 1. 1. 1. 1. 1. 1.]\n",
      " [1. 1. 1. 1. 1. 1. 1. 1. 1. 1.]\n",
      " [1. 1. 1. 1. 1. 1. 1. 1. 1. 1.]\n",
      " [1. 1. 1. 1. 1. 1. 1. 1. 1. 1.]]\n",
      "(100, 2)\n"
     ]
    }
   ],
   "source": [
    "# Create grid_min\n",
    "grid_used = np.zeros((x_bins.size - 1, y_bins.size - 1))\n",
    "lst_grid_min = []\n",
    "lst_grid_min_pos = []\n",
    "for x in grid.keys():\n",
    "    for y in grid[x].keys():\n",
    "        if np.array(grid[x][y]).shape[0] > 0:\n",
    "            grid_used[x, y] = 1\n",
    "            # print(np.argmin(np.array(grid[x][y])[:,2]))\n",
    "            lst_grid_min.append(np.min(np.array(grid[x][y])[:,2]))\n",
    "            arg_min = np.argmin(np.array(grid[x][y])[:,2])\n",
    "            lst_grid_min_pos.append(np.array(grid[x][y])[arg_min,0:2])\n",
    "        else:\n",
    "            grid_used[x, y] = 0\n",
    "print(grid_used)\n",
    "arr_grid_min_pos = np.vstack(lst_grid_min_pos)\n",
    "print(arr_grid_min_pos.shape)"
   ]
  },
  {
   "cell_type": "code",
   "execution_count": 24,
   "metadata": {},
   "outputs": [
    {
     "name": "stdout",
     "output_type": "stream",
     "text": [
      "Original number of points: 388709\n",
      "Interpollated number of points: 335358 (86%)\n"
     ]
    }
   ],
   "source": [
    "# Interpolate\n",
    "points_xy = np.array(points)[:,0:2]\n",
    "interpolated_min_z = scipy.interpolate.griddata(arr_grid_min_pos, np.array(lst_grid_min), points_xy, method=\"cubic\", fill_value=-1)\n",
    "\n",
    "mask_valid = np.array([x != -1 for x in list(interpolated_min_z)])\n",
    "points_interpolated = points_interpolated[mask_valid]\n",
    "points_interpolated[:, 2] = interpolated_min_z[mask_valid]\n",
    "\n",
    "print(f\"Original number of points: {points.shape[0]}\")\n",
    "print(f\"Interpollated number of points: {points_interpolated.shape[0]} ({int(points_interpolated.shape[0] / points.shape[0]*100)}%)\")\n"
   ]
  },
  {
   "cell_type": "code",
   "execution_count": 25,
   "metadata": {},
   "outputs": [],
   "source": [
    "save = False"
   ]
  },
  {
   "cell_type": "code",
   "execution_count": 26,
   "metadata": {},
   "outputs": [],
   "source": [
    "# save mask\n",
    "with open(tile_src.split('.laz')[0] + f\"_mask_{grid_size}m.pcl\", '+wb') as file:\n",
    "    pickle.dump(mask_valid, file)"
   ]
  },
  {
   "cell_type": "code",
   "execution_count": 27,
   "metadata": {},
   "outputs": [
    {
     "name": "stdout",
     "output_type": "stream",
     "text": [
      "335358\n",
      "Saved file:  ..\\data\\flattening_corrections\\test\\color_grp_full_tile_128_floor_10m.laz\n"
     ]
    }
   ],
   "source": [
    "# save floor\n",
    "filtered_points = {dim: getattr(laz, dim)[mask_valid] for dim in laz.point_format.dimension_names}\n",
    "header = laspy.LasHeader(point_format=laz.header.point_format, version=laz.header.version)\n",
    "new_las = laspy.LasData(header)\n",
    "\n",
    "#   _Assign filtered and modified data\n",
    "for dim, values in filtered_points.items():\n",
    "    setattr(new_las, dim, values)\n",
    "# new_las.xyz = points_interpolated\n",
    "setattr(new_las, 'x', points_interpolated[:,0])\n",
    "setattr(new_las, 'y', points_interpolated[:,1])\n",
    "setattr(new_las, 'z', points_interpolated[:,2])\n",
    "\n",
    "print(len(new_las))\n",
    "#   _Save new file\n",
    "new_las.write(tile_src.split('.laz')[0] + f\"_floor_{grid_size}m.laz\")\n",
    "print(\"Saved file: \", tile_src.split('.laz')[0] + f\"_floor_{grid_size}m.laz\")\n",
    "\n",
    "\n",
    "# if save:\n",
    "#     pcd.points = o3d.utility.Vector3dVector(points_interpolated)\n",
    "#     o3d.io.write_point_cloud(tile_src.split('.pcd')[0] + f\"_floor_{grid_size}m.pcd\", pcd, write_ascii=True)"
   ]
  },
  {
   "cell_type": "code",
   "execution_count": 28,
   "metadata": {},
   "outputs": [
    {
     "name": "stdout",
     "output_type": "stream",
     "text": [
      "335358\n"
     ]
    }
   ],
   "source": [
    "test_laz = laspy.read(tile_src.split('.laz')[0] + f\"_floor_{grid_size}m.laz\")\n",
    "print(len(test_laz))"
   ]
  },
  {
   "cell_type": "code",
   "execution_count": null,
   "metadata": {},
   "outputs": [
    {
     "name": "stdout",
     "output_type": "stream",
     "text": [
      "X\n",
      "[257163674 257163634 257163595 ... 257173391 257173381 257173391]\n",
      "Y\n",
      "[109684818 109684764 109684714 ... 109692853 109692877 109692927]\n",
      "Z\n",
      "[187797 187817 187837 ... 185728 185689 185664]\n",
      "intensity\n",
      "[41891 43690 42919 ... 35466 35209 35980]\n",
      "return_number\n",
      "<SubFieldView([1 1 1 ... 1 1 1])>\n",
      "number_of_returns\n",
      "<SubFieldView([1 1 1 ... 1 1 1])>\n",
      "synthetic\n",
      "<SubFieldView([0 0 0 ... 0 0 0])>\n",
      "key_point\n",
      "<SubFieldView([0 0 0 ... 0 0 0])>\n",
      "withheld\n",
      "<SubFieldView([0 0 0 ... 0 0 0])>\n",
      "overlap\n",
      "<SubFieldView([0 0 0 ... 0 0 0])>\n",
      "scanner_channel\n",
      "<SubFieldView([0 0 0 ... 0 0 0])>\n",
      "scan_direction_flag\n",
      "<SubFieldView([0 0 0 ... 0 0 0])>\n",
      "edge_of_flight_line\n",
      "<SubFieldView([0 0 0 ... 0 0 0])>\n",
      "classification\n",
      "[ 3  3  3 ...  5 21  5]\n",
      "user_data\n",
      "[0 0 0 ... 0 0 0]\n",
      "scan_angle\n",
      "[0 0 0 ... 0 0 0]\n",
      "point_source_id\n",
      "[0 0 0 ... 0 0 0]\n",
      "gps_time\n",
      "[0. 0. 0. ... 0. 0. 0.]\n",
      "red\n",
      "[41634 43690 42919 ... 38807 37265 38807]\n",
      "green\n",
      "[41377 43433 42405 ... 34438 34438 34952]\n",
      "blue\n",
      "[45489 47288 46260 ... 32896 34438 34695]\n",
      "Saved file:  ..\\data\\flattening_corrections\\test\\color_grp_full_tile_128_flatten_10m.laz\n"
     ]
    }
   ],
   "source": [
    "# Flatten\n",
    "points_flatten = points_flatten[mask_valid]\n",
    "points_flatten[:,2] = points_flatten[:,2] - points_interpolated[:,2]\n",
    "# points_flatten[:,2] = np.clip(0, points_flatten[:,2] - points_interpolated[:,2], np.inf)\n",
    "\n",
    "filtered_points = {dim: getattr(laz, dim)[mask_valid] for dim in laz.point_format.dimension_names}\n",
    "header = laspy.LasHeader(point_format=laz.header.point_format, version=laz.header.version)\n",
    "new_las = laspy.LasData(header)\n",
    "\n",
    "#   _Assign filtered and modified data\n",
    "for dim, values in filtered_points.items():\n",
    "    setattr(new_las, dim, values)\n",
    "# new_las.xyz = points_flatten\n",
    "setattr(new_las, 'x', points_flatten[:,0])\n",
    "setattr(new_las, 'y', points_flatten[:,1])\n",
    "setattr(new_las, 'z', points_flatten[:,2])\n",
    "\n",
    "#   _Save new file\n",
    "new_las.write(tile_src.split('.laz')[0] + f\"_flatten_{grid_size}m.laz\")\n",
    "print(\"Saved file: \", tile_src.split('.laz')[0] + f\"_flatten_{grid_size}m.laz\")\n",
    "\n",
    "# if save:\n",
    "#     pcd.points = o3d.utility.Vector3dVector(points_flatten)\n",
    "    \n",
    "#     o3d.io.write_point_cloud(tile_src.split('.pcd')[0] + f\"_flatten_{grid_size}m.pcd\", pcd, write_ascii=True)\n"
   ]
  },
  {
   "cell_type": "markdown",
   "metadata": {},
   "source": [
    "### Visualize the removed points"
   ]
  },
  {
   "cell_type": "code",
   "execution_count": null,
   "metadata": {},
   "outputs": [],
   "source": [
    "# # Find removed points\n",
    "# removed_points = copy.deepcopy(points)\n",
    "# removed_points = removed_points[~mask_valid]"
   ]
  },
  {
   "cell_type": "code",
   "execution_count": null,
   "metadata": {},
   "outputs": [],
   "source": [
    "# # Visualize removed points\n",
    "# pcd_new = o3d.geometry.PointCloud()\n",
    "# pcd_new.points = o3d.utility.Vector3dVector(removed_points)\n",
    "# o3d.visualization.draw_geometries([pcd_new])"
   ]
  }
 ],
 "metadata": {
  "kernelspec": {
   "display_name": "PDM",
   "language": "python",
   "name": "python3"
  },
  "language_info": {
   "codemirror_mode": {
    "name": "ipython",
    "version": 3
   },
   "file_extension": ".py",
   "mimetype": "text/x-python",
   "name": "python",
   "nbconvert_exporter": "python",
   "pygments_lexer": "ipython3",
   "version": "3.9.21"
  }
 },
 "nbformat": 4,
 "nbformat_minor": 2
}
