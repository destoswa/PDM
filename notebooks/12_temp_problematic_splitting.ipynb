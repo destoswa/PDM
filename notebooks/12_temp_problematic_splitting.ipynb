{
 "cells": [
  {
   "cell_type": "markdown",
   "id": "e464107b",
   "metadata": {},
   "source": [
    "# Problematic splitting"
   ]
  },
  {
   "cell_type": "code",
   "execution_count": 4,
   "id": "c79baa81",
   "metadata": {},
   "outputs": [],
   "source": [
    "import os\n",
    "import sys\n",
    "import shutil\n",
    "import zipfile\n",
    "import numpy as np\n",
    "import pandas as pd\n",
    "import pickle\n",
    "# import pdal\n",
    "import json\n",
    "import laspy\n",
    "import subprocess\n",
    "from copy import deepcopy\n",
    "from datetime import datetime\n",
    "from tqdm import tqdm\n",
    "from concurrent.futures import ThreadPoolExecutor, ProcessPoolExecutor, as_completed\n",
    "from functools import partial\n",
    "from omegaconf import OmegaConf\n",
    "from scipy.spatial import cKDTree\n",
    "from sklearn.decomposition import PCA"
   ]
  },
  {
   "cell_type": "markdown",
   "id": "7c0012e0",
   "metadata": {},
   "source": [
    "### utils"
   ]
  },
  {
   "cell_type": "code",
   "execution_count": 36,
   "id": "5d128c9a",
   "metadata": {},
   "outputs": [
    {
     "name": "stdout",
     "output_type": "stream",
     "text": [
      "New mask:  3528\n",
      "New other mask :  2051\n"
     ]
    }
   ],
   "source": [
    "def transform_with_pca(pointcloud, verbose=False):\n",
    "    # fit PCA\n",
    "    pca = PCA(n_components=2)\n",
    "\n",
    "    # compute pointcloud in new axes\n",
    "    transformed = pca.fit_transform(pointcloud)\n",
    "\n",
    "    # principal axes\n",
    "    components = pca.components_  \n",
    "    if verbose:\n",
    "        print(\"PCA components (axes):\\n\", components)\n",
    "        print(\"PCA-transformed points:\\n\", transformed)\n",
    "    \n",
    "    return transformed\n",
    "\n",
    "def split_instances(pointcloud, maskA, maskB):\n",
    "    intersection_mask = maskA & maskB\n",
    "    pc_x = np.reshape(np.array(getattr(pointcloud, 'x')), (-1,1))\n",
    "    pc_y = np.reshape(np.array(getattr(pointcloud, 'y')), (-1,1))\n",
    "\n",
    "    pc_A = np.concatenate((pc_x[maskA], pc_y[maskA]), axis=1)\n",
    "    pc_B = np.concatenate((pc_x[maskB], pc_y[maskB]), axis=1)\n",
    "\n",
    "    intersection = np.concatenate((pc_x[intersection_mask], pc_y[intersection_mask]), axis=1)        \n",
    "    intersection_transformed = transform_with_pca(intersection)\n",
    "\n",
    "    # cut\n",
    "    mask_pos = intersection_transformed[:,1] > 0\n",
    "    mask_neg = mask_pos == False\n",
    "    mask_pos_full = np.zeros((len(intersection_mask)))\n",
    "    mask_neg_full = np.zeros((len(intersection_mask)))\n",
    "    small_pos = 0\n",
    "    small_neg = 0\n",
    "    for i in range(len(intersection_mask)):\n",
    "        if intersection_mask[i]:\n",
    "            mask_pos_full[i] = mask_pos[small_pos]\n",
    "            small_pos += 1\n",
    "    for i in range(len(intersection_mask)):\n",
    "        if intersection_mask[i]:\n",
    "            mask_neg_full[i] = mask_neg[small_neg]\n",
    "            small_neg += 1\n",
    "\n",
    "    # find centroids of the two clusters:\n",
    "    centroid_A = np.mean(pc_A, axis=0)\n",
    "    centroid_B = np.mean(pc_B, axis=0)\n",
    "\n",
    "    centroid_pos = np.mean(intersection[mask_pos], axis=0)\n",
    "\n",
    "    dist_pos_A = ((centroid_A[0] - centroid_pos[0])**2 + (centroid_A[1] - centroid_pos[1])**2)**0.5\n",
    "    dist_pos_B = ((centroid_B[0] - centroid_pos[0])**2 + (centroid_B[1] - centroid_pos[1])**2)**0.5\n",
    "\n",
    "    # remove intersection from masks\n",
    "    anti_intersection_mask = intersection_mask == False\n",
    "    maskA = maskA.astype(bool) & anti_intersection_mask.astype(bool)\n",
    "    maskB = maskB.astype(bool) & anti_intersection_mask.astype(bool)\n",
    "\n",
    "    # add part of intersection to each mask\n",
    "    if dist_pos_A < dist_pos_B:\n",
    "        maskA = (maskA.astype(bool) | mask_pos_full.astype(bool))\n",
    "        maskB = (maskB.astype(bool) | mask_neg_full.astype(bool))\n",
    "    else:\n",
    "        maskA = (maskA.astype(bool) | mask_neg_full.astype(bool))\n",
    "        maskB = (maskB.astype(bool) | mask_pos_full.astype(bool))\n",
    "    \n",
    "    return maskA, maskB\n",
    "\n",
    "new_mask, new_other_mask = split_instances(tile, mask, other_mask)\n",
    "print(\"New mask: \", np.sum(new_mask))\n",
    "print(\"New other mask : \", np.sum(new_other_mask))"
   ]
  },
  {
   "cell_type": "markdown",
   "id": "d864bfc1",
   "metadata": {},
   "source": [
    "### Processing problematic samples"
   ]
  },
  {
   "cell_type": "code",
   "execution_count": 16,
   "id": "e443c450",
   "metadata": {},
   "outputs": [
    {
     "name": "stdout",
     "output_type": "stream",
     "text": [
      "Lenght of mask:  3534\n",
      "Lenght of other mask:  2056\n",
      "Lenght of intersection:  11\n",
      "Lenght of tile:  35160\n"
     ]
    }
   ],
   "source": [
    "# loading\n",
    "src_mask = r\"D:\\PDM_repo\\Github\\PDM\\results\\samples_split_fail\\mask3.pickle\"\n",
    "src_other_mask = r\"D:\\PDM_repo\\Github\\PDM\\results\\samples_split_fail\\other_mask3.pickle\"\n",
    "src_tile = r\"D:\\PDM_repo\\Github\\PDM\\results\\samples_split_fail\\tile_3.laz\"\n",
    "\n",
    "with open(src_mask, 'rb') as file:\n",
    "    mask = pickle.load(file)\n",
    "with open(src_other_mask, 'rb') as file:\n",
    "    other_mask = pickle.load(file)\n",
    "\n",
    "tile = laspy.read(src_tile)\n",
    "\n",
    "intersection_mask = mask & other_mask\n",
    "\n",
    "# infos:\n",
    "print(\"Lenght of mask: \", np.sum(mask))\n",
    "print(\"Lenght of other mask: \", np.sum(other_mask))\n",
    "print(\"Lenght of intersection: \", np.sum(intersection_mask))\n",
    "print(\"Lenght of tile: \", len(tile))\n"
   ]
  },
  {
   "cell_type": "code",
   "execution_count": 20,
   "id": "1f5a6d48",
   "metadata": {},
   "outputs": [],
   "source": [
    "# split\n",
    "new_mask, new_other_mask = split_instances(tile, mask, other_mask)"
   ]
  },
  {
   "cell_type": "code",
   "execution_count": 21,
   "id": "bdb36d90",
   "metadata": {},
   "outputs": [
    {
     "name": "stdout",
     "output_type": "stream",
     "text": [
      "New mask:  35160\n",
      "New other mask :  2056\n"
     ]
    }
   ],
   "source": [
    "print(\"New mask: \", np.sum(new_mask))\n",
    "print(\"New other mask : \", np.sum(new_other_mask))"
   ]
  },
  {
   "cell_type": "code",
   "execution_count": null,
   "id": "935f301f",
   "metadata": {},
   "outputs": [],
   "source": []
  }
 ],
 "metadata": {
  "kernelspec": {
   "display_name": "PDM",
   "language": "python",
   "name": "python3"
  },
  "language_info": {
   "codemirror_mode": {
    "name": "ipython",
    "version": 3
   },
   "file_extension": ".py",
   "mimetype": "text/x-python",
   "name": "python",
   "nbconvert_exporter": "python",
   "pygments_lexer": "ipython3",
   "version": "3.9.21"
  }
 },
 "nbformat": 4,
 "nbformat_minor": 5
}
