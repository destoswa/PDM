{
 "cells": [
  {
   "cell_type": "markdown",
   "metadata": {},
   "source": [
    "# Ground Truth generation"
   ]
  },
  {
   "cell_type": "markdown",
   "metadata": {},
   "source": [
    "# table of content\n",
    "1) [Generation](#generation)\n",
    "2) [Addition](#addition)\n",
    "3) [Erase clusters](#erase-clusters)\n",
    "4) [Clean IDs of clusters](#clean-ids-of-clusters)\n",
    "5) [Change name of semantic and segmentation columns](#change-name-of-semantic-and-segmentation-columns)\n",
    "6) [Show evolutionm of predicted instances vs GT](#show-evolution-of-predicted-instances-vs-gt)"
   ]
  },
  {
   "cell_type": "markdown",
   "metadata": {},
   "source": [
    "### Dependencies and general utils"
   ]
  },
  {
   "cell_type": "code",
   "execution_count": null,
   "metadata": {},
   "outputs": [],
   "source": [
    "import os\n",
    "import numpy as np\n",
    "import matplotlib.pyplot as plt\n",
    "import seaborn as sns\n",
    "import laspy\n",
    "import pdal\n",
    "import json\n",
    "from tqdm import tqdm"
   ]
  },
  {
   "cell_type": "markdown",
   "metadata": {},
   "source": [
    "### Generation"
   ]
  },
  {
   "cell_type": "markdown",
   "metadata": {},
   "source": [
    "#### Utils"
   ]
  },
  {
   "cell_type": "code",
   "execution_count": null,
   "metadata": {},
   "outputs": [],
   "source": [
    "def convert_las_to_laz(in_las, out_laz, verbose=True):\n",
    "    \"\"\"\n",
    "    Convert a LAS file to a LAZ file, stripping all extra dimensions.\n",
    "\n",
    "    Parameters:\n",
    "    - in_las: str, path to the input .las file\n",
    "    - out_laz: str, path to the output .laz file\n",
    "    - verbose: bool, whether to print a success message\n",
    "\n",
    "    Returns:\n",
    "    - None\n",
    "    \"\"\"\n",
    "    pipeline_json = {\n",
    "        \"pipeline\": [\n",
    "            {\n",
    "                \"type\": \"readers.las\",\n",
    "                \"filename\": in_las\n",
    "            },\n",
    "            {\n",
    "                \"type\": \"writers.las\",\n",
    "                \"filename\": out_laz,\n",
    "                \"compression\": \"laszip\",  # Ensure compression to LAZ\n",
    "            }\n",
    "        ]\n",
    "    }\n",
    "\n",
    "    # Create and execute the pipeline\n",
    "    pipeline = pdal.Pipeline(json.dumps(pipeline_json))\n",
    "    pipeline.execute()\n",
    "\n",
    "    if verbose:\n",
    "        print(f\"LAZ file saved at {out_laz}\")\n",
    "\n",
    "def convert_pcd_to_laz(in_pcd, out_laz, verbose=True):\n",
    "    pipeline_json = {\n",
    "        \"pipeline\": [\n",
    "            in_pcd,  # Read the PCD file\n",
    "            {\n",
    "                \"type\": \"writers.las\",\n",
    "                \"filename\": out_laz,\n",
    "                \"compression\": \"laszip\"  # Ensures .laz compression\n",
    "                \"\"\n",
    "            },\n",
    "            {\n",
    "                \"type\": \"filters.reprojection\",\n",
    "                \"in_srs\": \"EPSG:4326\",\n",
    "                \"out_srs\": \"EPSG:2056\"\n",
    "            }\n",
    "        ]\n",
    "    }\n",
    "\n",
    "    # Run the PDAL pipeline\n",
    "    pipeline = pdal.Pipeline(json.dumps(pipeline_json))\n",
    "    pipeline.execute()\n",
    "    \n",
    "    if verbose:\n",
    "        print(f\"LAZ file saved in {out_laz}\")\n",
    "\n",
    "def convert_laz_to_pcd(in_laz, out_pcd, verbose=True):\n",
    "    laz = laspy.read(in_laz)\n",
    "\n",
    "    # Gathering all attributes from laz file\n",
    "    points = np.vstack((laz.x, laz.y, laz.z)).T\n",
    "\n",
    "    attributes = {}\n",
    "    for attribute in laz.point_format.dimensions:\n",
    "        if attribute.name in ['X', 'Y', 'Z']:\n",
    "            continue\n",
    "        attributes[attribute.name] = getattr(laz, attribute.name)\n",
    "    \n",
    "    # Preparing data for pcd\n",
    "    num_points = points.shape[0]\n",
    "    fields = [\"x\", \"y\", \"z\"] + list(attributes.keys())  # All field names\n",
    "    types = [\"F\", \"F\", \"F\"] + [\"F\" for _ in attributes]  # Float32 fields\n",
    "    sizes = [4] * len(fields)  # 4-byte float per field\n",
    "\n",
    "    # Stack all data into a single NumPy array\n",
    "    data = np.column_stack([points] + [attributes[key] for key in attributes])\n",
    "\n",
    "    # Write to a PCD file\n",
    "    with open(out_pcd, \"w\") as f:\n",
    "        f.write(f\"VERSION 0.7\\n\")\n",
    "        f.write(f\"FIELDS {' '.join(fields)}\\n\")\n",
    "        f.write(f\"SIZE {' '.join(map(str, sizes))}\\n\")\n",
    "        f.write(f\"TYPE {' '.join(types)}\\n\")\n",
    "        f.write(f\"COUNT {' '.join(['1'] * len(fields))}\\n\")\n",
    "        f.write(f\"WIDTH {num_points}\\n\")\n",
    "        f.write(f\"HEIGHT 1\\n\")\n",
    "        f.write(f\"VIEWPOINT 0 0 0 1 0 0 0\\n\")\n",
    "        f.write(f\"POINTS {num_points}\\n\")\n",
    "        f.write(f\"DATA ascii\\n\")\n",
    "    \n",
    "        # Write data\n",
    "        np.savetxt(f, data, fmt=\" \".join([\"%.6f\"] * len(fields)))\n",
    "\n",
    "    if verbose:\n",
    "        print(f\"PCD file saved in {out_pcd}\")\n"
   ]
  },
  {
   "cell_type": "markdown",
   "metadata": {},
   "source": [
    "#### Generate"
   ]
  },
  {
   "cell_type": "code",
   "execution_count": 8,
   "metadata": {},
   "outputs": [],
   "source": [
    "# Loading sources\n",
    "src_folder_instances = r\"D:\\PDM_repo\\Github\\PDM\\data\\full_dataset\\selection\\clusters_4\\cluster_4\\gt\"\n",
    "src_original_prediction = r\"D:\\PDM_repo\\Github\\PDM\\data\\full_dataset\\selection\\clusters_4\\cluster_4\\color_grp_full_tile_331.laz\"\n",
    "src_folder_result = r\"..\\data\\full_dataset\\selection\\clusters_4\\gt\""
   ]
  },
  {
   "cell_type": "code",
   "execution_count": 9,
   "metadata": {},
   "outputs": [
    {
     "name": "stderr",
     "output_type": "stream",
     "text": [
      "100%|██████████| 5/5 [00:00<00:00, 68.04it/s]\n"
     ]
    }
   ],
   "source": [
    "# Generate from laz to pcd for manual cleaning of the samples\n",
    "files = [x for x in os.listdir(src_folder_instances) if x.endswith('.laz')]\n",
    "src_pcd_loc = os.path.join(src_folder_instances, 'pcd')\n",
    "os.makedirs(src_pcd_loc, exist_ok=True)\n",
    "for _, file in tqdm(enumerate(files), total=len(files)):\n",
    "    file_out = file.split('.laz')[0] + '.pcd'\n",
    "    convert_laz_to_pcd(os.path.join(src_folder_instances, file), os.path.join(src_pcd_loc, file_out), verbose=False)"
   ]
  },
  {
   "cell_type": "code",
   "execution_count": 10,
   "metadata": {},
   "outputs": [
    {
     "name": "stderr",
     "output_type": "stream",
     "text": [
      "100%|██████████| 5/5 [00:00<00:00, 32.82it/s]\n"
     ]
    }
   ],
   "source": [
    "# Once cleaned, generate from pcd to laz in new folder\n",
    "src_folder_instances = os.path.join(src_folder_instances, 'pcd/modified_samples')\n",
    "files = [x for x in os.listdir(src_folder_instances) if x.endswith('.pcd')]\n",
    "for _, file in tqdm(enumerate(files), total=len(files)):\n",
    "    src_in = os.path.join(src_folder_instances, file)\n",
    "    src_out = os.path.join(src_folder_instances, file.split('.pcd')[0] + '.laz')\n",
    "    convert_pcd_to_laz(src_in, src_out,verbose=False)"
   ]
  },
  {
   "cell_type": "code",
   "execution_count": null,
   "metadata": {},
   "outputs": [],
   "source": [
    "# Load original and reset/create gt columns\n",
    "full_tile = laspy.read(src_original_prediction)\n",
    "full_tile.add_extra_dim(laspy.ExtraBytesParams('gt_semantic',type=\"uint16\"))\n",
    "full_tile.add_extra_dim(laspy.ExtraBytesParams('gt_instance',type=\"uint16\"))"
   ]
  },
  {
   "cell_type": "code",
   "execution_count": null,
   "metadata": {},
   "outputs": [
    {
     "name": "stderr",
     "output_type": "stream",
     "text": [
      "100%|██████████| 5/5 [00:09<00:00,  1.97s/it]\n"
     ]
    }
   ],
   "source": [
    "# Loop on gt instances and set the correct values in the full tile\n",
    "list_instances_src = [x for x in os.listdir(src_folder_instances) if x.endswith('.laz')]\n",
    "rounding = 2\n",
    "semantic_layer = np.zeros(len(full_tile))\n",
    "instance_layer = np.zeros(len(full_tile))\n",
    "for id_instance, instance_src in tqdm(enumerate(list_instances_src), total=len(list_instances_src)):\n",
    "    instance = laspy.read(os.path.join(src_folder_instances, instance_src))\n",
    "    coords = list(zip(np.round(instance.x, rounding), np.round(instance.y, rounding), np.round(instance.z, rounding)))\n",
    "    mask = np.array([(x,y,z) in coords for x, y, z in zip(np.round(full_tile.x, rounding), np.round(full_tile.y, rounding), np.round(full_tile.z, rounding))])\n",
    "    semantic_layer[mask] = 1\n",
    "    instance_layer[mask] = id_instance + 1\n",
    "\n",
    "setattr(full_tile, 'gt_semantic', semantic_layer)\n",
    "setattr(full_tile, 'gt_instance', instance_layer)\n",
    "\n",
    "# save file\n",
    "new_file = os.path.join(os.path.join(src_folder_result), os.path.basename(src_original_prediction).split('.laz')[0] + '_gt.laz')\n",
    "full_tile.write(new_file)"
   ]
  },
  {
   "cell_type": "markdown",
   "metadata": {},
   "source": [
    "### Addition"
   ]
  },
  {
   "cell_type": "code",
   "execution_count": null,
   "metadata": {},
   "outputs": [],
   "source": [
    "# Loading sources\n",
    "src_folder_instances = r\"D:\\PDM_repo\\Github\\PDM\\data\\full_dataset\\selection\\clusters_4\\cluster_2\\gt\\round2\"\n",
    "src_target = r\"D:\\PDM_repo\\Github\\PDM\\data\\full_dataset\\selection\\clusters_4\\gt\\color_grp_full_tile_331_gt.laz\"\n",
    "tile_target = laspy.read(src_target)\n",
    "\n",
    "assert \"gt_semantic\" in tile_target.point_format.dimension_names\n",
    "assert \"gt_instance\" in tile_target.point_format.dimension_names"
   ]
  },
  {
   "cell_type": "code",
   "execution_count": 46,
   "metadata": {},
   "outputs": [
    {
     "name": "stderr",
     "output_type": "stream",
     "text": [
      "100%|██████████| 10/10 [00:00<00:00, 40.47it/s]\n"
     ]
    }
   ],
   "source": [
    "# Generate from laz to pcd for manual cleaning of the samples\n",
    "files = [x for x in os.listdir(src_folder_instances) if x.endswith('.laz')]\n",
    "src_pcd_loc = os.path.join(src_folder_instances, 'pcd')\n",
    "os.makedirs(src_pcd_loc, exist_ok=True)\n",
    "for _, file in tqdm(enumerate(files), total=len(files)):\n",
    "    file_out = file.split('.laz')[0] + '.pcd'\n",
    "    convert_laz_to_pcd(os.path.join(src_folder_instances, file), os.path.join(src_pcd_loc, file_out), verbose=False)"
   ]
  },
  {
   "cell_type": "code",
   "execution_count": 55,
   "metadata": {},
   "outputs": [
    {
     "name": "stderr",
     "output_type": "stream",
     "text": [
      "100%|██████████| 9/9 [00:00<00:00, 30.12it/s]\n"
     ]
    }
   ],
   "source": [
    "# Once cleaned, generate from pcd to laz in new folder\n",
    "src_folder_instances = os.path.join(src_folder_instances, 'pcd/modified_samples')\n",
    "files = [x for x in os.listdir(src_folder_instances) if x.endswith('.pcd')]\n",
    "for _, file in tqdm(enumerate(files), total=len(files)):\n",
    "    src_in = os.path.join(src_folder_instances, file)\n",
    "    src_out = os.path.join(src_folder_instances, file.split('.pcd')[0] + '.laz')\n",
    "    convert_pcd_to_laz(src_in, src_out,verbose=False)"
   ]
  },
  {
   "cell_type": "code",
   "execution_count": null,
   "metadata": {},
   "outputs": [
    {
     "name": "stderr",
     "output_type": "stream",
     "text": [
      "100%|██████████| 9/9 [01:39<00:00, 11.05s/it]\n"
     ]
    }
   ],
   "source": [
    "# Loop on gt instances and set the correct values in the full tile\n",
    "list_instances_src = [x for x in os.listdir(src_folder_instances) if x.endswith('.laz')]\n",
    "rounding = 2\n",
    "semantic_layer = np.array(tile_target.gt_semantic)\n",
    "instance_layer = np.array(tile_target.gt_instance)\n",
    "instance_val = np.max(tile_target.gt_instance) + 1\n",
    "for id_instance, instance_src in tqdm(enumerate(list_instances_src), total=len(list_instances_src)):\n",
    "    instance = laspy.read(os.path.join(src_folder_instances, instance_src))\n",
    "    coords = list(zip(np.round(instance.x, rounding), np.round(instance.y, rounding), np.round(instance.z, rounding)))\n",
    "    mask = np.array([(x,y,z) in coords for x, y, z in zip(np.round(tile_target.x, rounding), np.round(tile_target.y, rounding), np.round(tile_target.z, rounding))])\n",
    "    semantic_layer[mask] = 1\n",
    "    instance_layer[mask] = instance_val\n",
    "    instance_val += 1\n",
    "\n",
    "setattr(tile_target, 'gt_semantic', semantic_layer)\n",
    "setattr(tile_target, 'gt_instance', instance_layer)\n"
   ]
  },
  {
   "cell_type": "code",
   "execution_count": null,
   "metadata": {},
   "outputs": [],
   "source": [
    "# save file\n",
    "new_file = os.path.join(os.path.join(src_folder_result), os.path.basename(src_target).split('.laz')[0] + '_2.laz')\n",
    "tile_target.write(new_file)"
   ]
  },
  {
   "cell_type": "markdown",
   "metadata": {},
   "source": [
    "### Erase clusters"
   ]
  },
  {
   "cell_type": "code",
   "execution_count": null,
   "metadata": {},
   "outputs": [
    {
     "name": "stdout",
     "output_type": "stream",
     "text": [
      "Tree with id 100 of size 0 deleted\n"
     ]
    }
   ],
   "source": [
    "tree_ids_to_erase = [100]\n",
    "src_tile = r\"D:\\PDM_repo\\Github\\PDM\\data\\full_dataset\\selection\\clusters_4\\gt\\color_grp_full_tile_317_gt.laz\"\n",
    "tile = laspy.read(src_tile)\n",
    "assert \"gt_instance_segmentation\" in list(tile.point_format.dimension_names)\n",
    "\n",
    "for tree_id in tree_ids_to_erase:\n",
    "    mask = tile.gt_instance_segmentation == tree_id\n",
    "    tile.gt_instance_segmentation[mask] = 0.0\n",
    "    print(f\"Tree with id {tree_id} of size {np.sum(mask)} deleted\")\n",
    "tile.write(src_tile)"
   ]
  },
  {
   "cell_type": "markdown",
   "metadata": {},
   "source": [
    "### Clean ids of clusters"
   ]
  },
  {
   "cell_type": "code",
   "execution_count": 43,
   "metadata": {},
   "outputs": [
    {
     "name": "stderr",
     "output_type": "stream",
     "text": [
      "100%|██████████| 144/144 [00:00<00:00, 615.63it/s]\n"
     ]
    }
   ],
   "source": [
    "src_tile = r\"D:\\PDM_repo\\Github\\PDM\\data\\full_dataset\\selection\\clusters_4\\gt\\color_grp_full_tile_317_gt.laz\"\n",
    "tile = laspy.read(src_tile)\n",
    "assert \"gt_instance_segmentation\" in list(tile.point_format.dimension_names)\n",
    "max_id = np.max(tile.gt_instance_segmentation)\n",
    "down_jump = 0\n",
    "for _, id in tqdm(enumerate(range(max_id+1)), total=max_id+1):\n",
    "    mask = tile.gt_instance_segmentation == id\n",
    "    if np.sum(mask) == 0:\n",
    "        print(f\"Empty id: {id}\")\n",
    "        down_jump += 1\n",
    "        continue\n",
    "\n",
    "    if down_jump > 0:\n",
    "        print(id, \" -> \", id - down_jump)\n",
    "        tile.gt_instance_segmentation[mask] = id - down_jump\n",
    "tile.write(src_tile)\n"
   ]
  },
  {
   "cell_type": "markdown",
   "metadata": {},
   "source": [
    "### Other stuff"
   ]
  },
  {
   "cell_type": "markdown",
   "metadata": {},
   "source": [
    "#### Change name of semantic and segmentation columns"
   ]
  },
  {
   "cell_type": "code",
   "execution_count": null,
   "metadata": {},
   "outputs": [
    {
     "name": "stdout",
     "output_type": "stream",
     "text": [
      "Old val:  gt_semantic_segmentation\n",
      "New val:  gt_semantic\n",
      "Old val:  gt_instance_segmentation\n",
      "New val:  gt_instance\n"
     ]
    }
   ],
   "source": [
    "src_tile = r\"D:\\PDM_repo\\Github\\PDM\\data\\gt\\color_grp_full_tile_331_gt.laz\"\n",
    "las = laspy.read(src_tile)\n",
    "for old_val, new_val in zip(['gt_semantic_segmentation', 'gt_instance_segmentation'],['gt_semantic', 'gt_instance']):\n",
    "    print(\"Old val: \", old_val)\n",
    "    print(\"New val: \", new_val)\n",
    "    \n",
    "    # Get the values\n",
    "    values = las[old_val]\n",
    "\n",
    "    # Remove the old dimension from extra dimensions (only works for ExtraBytes dimensions)\n",
    "    if old_val in (las.point_format.dimension_names):\n",
    "        las.remove_extra_dim(old_val)\n",
    "\n",
    "    # Add new dimension\n",
    "    las.add_extra_dim(laspy.ExtraBytesParams(name=new_val, type=np.float32))  # Change type if needed\n",
    "    las[new_val] = values\n",
    "\n",
    "# Save to new file\n",
    "las.write(src_tile)"
   ]
  },
  {
   "cell_type": "markdown",
   "metadata": {},
   "source": [
    "### Add color field for instances"
   ]
  },
  {
   "cell_type": "code",
   "execution_count": null,
   "metadata": {},
   "outputs": [
    {
     "name": "stdout",
     "output_type": "stream",
     "text": [
      "[0, 1, 2, 3, 4, 5, 6, 7, 8, 9, 10, 11, 12, 13, 14, 15, 16, 17, 18, 19, 20, 21, 22, 23, 24, 25, 26, 27, 28, 29, 30, 31, 32, 33, 34, 35, 36, 37, 38, 39, 40, 41, 42, 43, 44, 45, 46, 47, 48, 49, 50, 51, 52, 53, 54, 55, 56, 57, 58, 59, 60, 61, 62, 63, 64, 65, 66, 67, 68, 69, 70, 71, 72, 73, 74, 75, 76, 77, 78, 79, 80, 81, 82, 83, 84, 85, 86, 87, 88, 89, 90, 91, 92, 93, 94, 95, 96, 97, 98, 99, 100, 101, 102, 103, 104, 105, 106, 107, 108, 109, 110, 111, 112, 113, 114, 115, 116, 117, 118, 119, 120, 121, 122, 123, 124, 125, 126, 127, 128, 129, 130, 131, 132, 133, 134, 135, 136, 137, 138, 139, 140, 141, 142, 143, 144, 145, 146, 147, 148, 149, 150, 151, 152, 153, 154, 155, 156, 157, 158, 159, 160, 161, 162, 163, 164, 165, 166, 167, 168, 169, 170, 171, 172, 173, 174, 175, 176, 177, 178, 179, 180, 181, 182, 183, 184, 185, 186, 187, 188]\n",
      "[0, 1, 2, 3, 4, 5, 6, 7, 8, 9, 10, 11, 12, 13, 14, 15, 16, 17, 18, 19, 20, 21, 22, 23, 24, 25, 26, 27, 28, 29, 30, 31, 32, 33, 34, 35, 36, 37, 38, 39, 40, 41, 42, 43, 44, 45, 46, 47, 48, 49, 50, 51, 52, 53, 54, 55, 56, 57, 58, 59, 60, 61, 62, 63, 64, 65, 66, 67, 68, 69, 70, 71, 72, 73, 74, 75, 76, 77, 78, 79, 80, 81, 82, 83, 84, 85, 86, 87, 88, 89, 90, 91, 92, 93, 94, 95, 96, 97, 98, 99, 100, 101, 102, 103, 104, 105, 106, 107, 108, 109, 110, 111, 112, 113, 114, 115, 116, 117, 118, 119, 120, 121, 122, 123, 124, 125, 126, 127, 128, 129, 130, 131, 132, 133, 134, 135, 136, 137, 138, 139, 140, 141, 142, 143, 144, 145, 146, 147, 148, 149, 150, 151, 152, 153, 154, 155, 156, 157, 158, 159, 160, 161, 162, 163, 164, 165, 166, 167, 168, 169, 170, 171, 172, 173, 174, 175, 176, 177, 178, 179, 180, 181, 182, 183, 184, 185, 186, 187, 188]\n"
     ]
    }
   ],
   "source": [
    "src_tile = r\"D:\\PDM_repo\\Github\\PDM\\results\\for_paper\\final\\20250701_162429_final_on_gt\\pseudo_labels\\color_grp_full_tile_317_gt.laz\"\n",
    "\n",
    "# Load file\n",
    "las = laspy.read(src_tile)\n",
    "instance_ids = np.array(getattr(las, \"treeID\"))\n",
    "set_instances = [int(x) for x in set(instance_ids)]  # Or your instance field\n",
    "print(set_instances)\n",
    "\n",
    "# Define your custom color palette\n",
    "color_map = [\n",
    "    (255, 0, 0),       # Bright Red\n",
    "    (255, 165, 0),     # Orange\n",
    "    (255, 255, 0),     # Yellow\n",
    "    (128, 128, 0),     # Olive\n",
    "    (0, 128, 0),       # Green\n",
    "    (0, 255, 0),       # Bright Green\n",
    "    (154, 205, 50),    # Yellow Green\n",
    "    (85, 107, 47),     # Dark Olive Green\n",
    "    (139, 69, 19),     # Saddle Brown\n",
    "    (210, 105, 30),    # Chocolate\n",
    "    (255, 105, 180),   # Hot Pink\n",
    "    (255, 20, 147),    # Deep Pink\n",
    "    (255, 192, 203),   # Light Pink\n",
    "    (255, 0, 255),     # Magenta\n",
    "    (128, 0, 128),     # Purple\n",
    "    (148, 0, 211),     # Dark Violet\n",
    "    (160, 82, 45),     # Sienna\n",
    "    (222, 184, 135),   # Burlywood\n",
    "    (255, 215, 0),     # Gold\n",
    "    (218, 112, 214)    # Orchid (mild purple-pink)\n",
    "]\n",
    "print(set_instances)\n",
    "instance_color_map = {x: color_map[x%len(color_map)] for x in set_instances}\n",
    "\n",
    "# Assign RGB colors\n",
    "r = np.zeros_like(instance_ids, dtype=np.uint16)\n",
    "g = np.zeros_like(instance_ids, dtype=np.uint16)\n",
    "b = np.zeros_like(instance_ids, dtype=np.uint16)\n",
    "\n",
    "for inst_id, (r_val, g_val, b_val) in instance_color_map.items():\n",
    "    mask = instance_ids == inst_id\n",
    "    if inst_id == 0:\n",
    "        r[mask] = 0\n",
    "        g[mask] = 0\n",
    "        b[mask] = 65535\n",
    "    else:\n",
    "        r[mask] = r_val * 256  # LAS stores 16-bit, 8-bit is scaled ×256\n",
    "        g[mask] = g_val * 256\n",
    "        b[mask] = b_val * 256\n",
    "\n",
    "# Attach colors to LAS\n",
    "las.red = r\n",
    "las.green = g\n",
    "las.blue = b\n",
    "\n",
    "# Save new file\n",
    "las.write(src_tile.split('.laz')[0] + \"_colored_instances_pseudo_labels.laz\")"
   ]
  },
  {
   "cell_type": "markdown",
   "metadata": {},
   "source": [
    "### Show evolution of predicted instances vs gt"
   ]
  },
  {
   "cell_type": "code",
   "execution_count": null,
   "metadata": {},
   "outputs": [
    {
     "name": "stderr",
     "output_type": "stream",
     "text": [
      "Computing: 100%|██████████| 10/10 [00:04<00:00,  2.13it/s]"
     ]
    },
    {
     "name": "stdout",
     "output_type": "stream",
     "text": [
      "{'color_grp_full_tile_316_gt.laz': [136, 151, 154, 158, 158, 160, 160, 161, 161, 162], 'color_grp_full_tile_317_gt.laz': [162, 170, 178, 181, 182, 184, 187, 189, 189, 189], 'color_grp_full_tile_331_gt.laz': [2, 2, 2, 2, 2, 2, 2, 2, 2, 2], 'color_grp_full_tile_77_gt.laz': [10, 14, 14, 14, 14, 14, 15, 15, 15, 15]}\n",
      "{'color_grp_full_tile_316_gt.laz': [153, 153, 153, 153, 153, 153, 153, 153, 153, 153], 'color_grp_full_tile_317_gt.laz': [153, 153, 153, 153, 153, 153, 153, 153, 153, 153], 'color_grp_full_tile_331_gt.laz': [6, 6, 6, 6, 6, 6, 6, 6, 6, 6], 'color_grp_full_tile_77_gt.laz': [23, 23, 23, 23, 23, 23, 23, 23, 23, 23]}\n"
     ]
    },
    {
     "name": "stderr",
     "output_type": "stream",
     "text": [
      "\n"
     ]
    }
   ],
   "source": [
    "src_eval = r\"D:\\PDM_repo\\Github\\PDM\\results\\eval\\20250701_162429_final_on_gt\"\n",
    "src_gt = \"../data/gt/gt\"\n",
    "tiles = [x for x in os.listdir(src_gt) if x.endswith('.laz')]\n",
    "evolution = {x:[] for x in tiles}\n",
    "gt_val = {x:[] for x in tiles}\n",
    "\n",
    "# finding the number of loops\n",
    "lst_loops = []\n",
    "num_loop = 0\n",
    "while True:\n",
    "    if not str(num_loop) in os.listdir(src_eval):\n",
    "        break\n",
    "    lst_loops.append(num_loop)\n",
    "    num_loop += 1\n",
    "if num_loop == 0:\n",
    "    print(\"No loop folder from which to extract the pseudo-labels\")\n",
    "\n",
    "# computing predictions and gt\n",
    "for _, loop in tqdm(enumerate(range(num_loop)), total=num_loop, desc=\"Computing\"):\n",
    "    pseudo_labels = os.path.join(src_eval, str(loop), 'pseudo_labels')\n",
    "    for tile_src in os.listdir(pseudo_labels):\n",
    "        tile = laspy.read(os.path.join(pseudo_labels, tile_src))\n",
    "        evolution[tile_src].append(len(set(tile.treeID)))\n",
    "        gt_val[tile_src].append(len(set(tile.gt_instance)))\n",
    "print(evolution)\n",
    "print(gt_val)"
   ]
  },
  {
   "cell_type": "code",
   "execution_count": null,
   "metadata": {},
   "outputs": [
    {
     "name": "stdout",
     "output_type": "stream",
     "text": [
      "dict_keys(['color_grp_full_tile_316_gt.laz', 'color_grp_full_tile_317_gt.laz', 'color_grp_full_tile_331_gt.laz', 'color_grp_full_tile_77_gt.laz'])\n"
     ]
    },
    {
     "data": {
      "image/png": "[encoded data removed]",
      "text/plain": [
       "<Figure size 1200x1200 with 4 Axes>"
      ]
     },
     "metadata": {},
     "output_type": "display_data"
    }
   ],
   "source": [
    "src_destination = r\"C:\\Users\\swann\\Documents\\EPFL\\Master\\PDM_admin\\medias\\results\\gt\\gt_Predsvsgt.png\"\n",
    "# show results\n",
    "group_names = ['Crowded + Flat', 'Crowded + Steep', 'Empty + Steep', 'Empty + Flat']\n",
    "fig, axs = plt.subplots(2,2, figsize=(12, 12))\n",
    "axs = axs.flatten()\n",
    "for idx, (tile, data) in enumerate(evolution.items()):\n",
    "    x = np.array(range(len(data)))\n",
    "    y = np.array(data)\n",
    "    span = max(gt_val[tile][0], np.max(x)) - (np.min(y)-5)\n",
    "    sns.lineplot(x=x, y=y, errorbar=None, marker='o', label=\"Predictions\", ax=axs[idx])\n",
    "    sns.lineplot(x=x, y=np.array(gt_val[tile]), errorbar=None, label=f\"Ground Truth\", ax=axs[idx])\n",
    "\n",
    "    # Annotate each point\n",
    "    for i in range(len(x)):\n",
    "        axs[idx].text(x[i], y[i] + 0.8 * span / 30,  # slightly above the error bar\n",
    "                f\"{round(y[i],2)}\",              # formatted value\n",
    "                ha='center', va='bottom', fontsize=10, color='black')\n",
    "    axs[idx].set_title(group_names[idx])\n",
    "axs[0].set_ylim([135, 170])\n",
    "axs[0].text(8, 145, 'gt=153', ha='center', va='bottom', fontsize=12, color='#f67000')\n",
    "axs[1].text(8, 154, 'gt=153', ha='center', va='bottom', fontsize=12, color='#f67000')\n",
    "axs[2].text(8, 5.7, 'gt=6', ha='center', va='bottom', fontsize=12, color='#f67000')\n",
    "axs[3].text(8, 22, 'gt=23', ha='center', va='bottom', fontsize=12, color='#f67000')\n",
    "plt.savefig(src_destination)\n",
    "plt.show()\n",
    "plt.close()"
   ]
  },
  {
   "cell_type": "code",
   "execution_count": null,
   "metadata": {},
   "outputs": [],
   "source": []
  }
 ],
 "metadata": {
  "kernelspec": {
   "display_name": "PDM",
   "language": "python",
   "name": "python3"
  },
  "language_info": {
   "codemirror_mode": {
    "name": "ipython",
    "version": 3
   },
   "file_extension": ".py",
   "mimetype": "text/x-python",
   "name": "python",
   "nbconvert_exporter": "python",
   "pygments_lexer": "ipython3",
   "version": "3.9.21"
  }
 },
 "nbformat": 4,
 "nbformat_minor": 2
}
