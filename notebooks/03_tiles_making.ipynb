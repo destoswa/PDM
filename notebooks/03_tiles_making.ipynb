{
 "cells": [
  {
   "cell_type": "markdown",
   "metadata": {},
   "source": [
    "# Tiles making"
   ]
  },
  {
   "cell_type": "markdown",
   "metadata": {},
   "source": [
    "# table of content\n",
    "1) [Load stats](#load-stats)\n",
    "2) [Show histograms and barplots](#show-histograms-and-barplots)\n",
    "3) [Pie on heights](#pie-on-heights)"
   ]
  },
  {
   "cell_type": "markdown",
   "metadata": {},
   "source": [
    "### Dependencies and general utils"
   ]
  },
  {
   "cell_type": "code",
   "execution_count": 1,
   "metadata": {},
   "outputs": [],
   "source": [
    "import os\n",
    "import numpy as np\n",
    "import pandas as pd\n",
    "import matplotlib.pyplot as plt\n",
    "import seaborn as sns\n",
    "import open3d as o3d\n",
    "import laspy\n",
    "import pdal\n",
    "import json\n",
    "from tqdm import tqdm"
   ]
  },
  {
   "cell_type": "markdown",
   "metadata": {},
   "source": [
    "### Sources and parameters"
   ]
  },
  {
   "cell_type": "code",
   "execution_count": 2,
   "metadata": {},
   "outputs": [],
   "source": [
    "# source\n",
    "in_file_src = r\"..\\data\\split_testing\\test\\color_grp_full.laz\"\n",
    "\n",
    "# parameters\n",
    "edge_length = 100"
   ]
  },
  {
   "cell_type": "markdown",
   "metadata": {},
   "source": [
    "#### Utils"
   ]
  },
  {
   "cell_type": "code",
   "execution_count": 3,
   "metadata": {},
   "outputs": [],
   "source": [
    "def split_laz_into_tiles(input_laz, output_pattern, tile_size=100):\n",
    "    pipeline_json = {\n",
    "        \"pipeline\": [\n",
    "            input_laz,\n",
    "            {\n",
    "                \"type\": \"filters.splitter\",\n",
    "                \"length\": tile_size  # Tile size in the X/Y direction\n",
    "            },\n",
    "            {\n",
    "                \"type\": \"writers.las\",\n",
    "                \"filename\": output_pattern\n",
    "            }\n",
    "        ]\n",
    "    }\n",
    "\n",
    "    pipeline = pdal.Pipeline(json.dumps(pipeline_json))\n",
    "    pipeline.execute()"
   ]
  },
  {
   "cell_type": "code",
   "execution_count": null,
   "metadata": {},
   "outputs": [
    {
     "name": "stdout",
     "output_type": "stream",
     "text": [
      "..\\data\\split_testing\\test\\color_grp_full.laz\n",
      "..\\data\\split_testing\\test\\tiles\n",
      "..\\data\\split_testing\\test\\tiles\\color_grp_full_tile_#.laz\n"
     ]
    }
   ],
   "source": [
    "# splitting\n",
    "# in_file_src = \"../data/full_dataset/color_grp_full.laz\"\n",
    "# out_file_src = os.path.join(\n",
    "#             \"../data/full_dataset/test/dataset_full_100m/\", \n",
    "#             os.path.basename(in_file_src).split('.')[0] + \"_tile_#.laz\",\n",
    "#             )\n",
    "# split_laz_into_tiles(in_file_src, out_file_src, tile_size=edge_length)\n",
    "\n",
    "# return\n",
    "parent_dir = os.path.dirname(in_file_src)\n",
    "print(in_file_src)\n",
    "tiles_dir = os.path.join(parent_dir, 'tiles')\n",
    "print(tiles_dir)\n",
    "if not os.path.exists(tiles_dir):\n",
    "    os.makedirs(tiles_dir)\n",
    "out_file_src = os.path.join(tiles_dir, os.path.basename(in_file_src).split('.')[0] + \"_tile_#.laz\")\n",
    "print(out_file_src)\n",
    "split_laz_into_tiles(in_file_src, out_file_src, tile_size=edge_length)"
   ]
  },
  {
   "cell_type": "code",
   "execution_count": null,
   "metadata": {},
   "outputs": [],
   "source": []
  }
 ],
 "metadata": {
  "kernelspec": {
   "display_name": "PDM",
   "language": "python",
   "name": "python3"
  },
  "language_info": {
   "codemirror_mode": {
    "name": "ipython",
    "version": 3
   },
   "file_extension": ".py",
   "mimetype": "text/x-python",
   "name": "python",
   "nbconvert_exporter": "python",
   "pygments_lexer": "ipython3",
   "version": "3.9.21"
  }
 },
 "nbformat": 4,
 "nbformat_minor": 2
}
